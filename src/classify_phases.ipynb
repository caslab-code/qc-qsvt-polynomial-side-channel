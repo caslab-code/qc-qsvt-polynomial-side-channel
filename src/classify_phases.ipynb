{
 "cells": [
  {
   "cell_type": "code",
   "execution_count": null,
   "id": "c8f7f9ec-84b2-4a3a-b741-feab08a7168b",
   "metadata": {},
   "outputs": [],
   "source": [
    "# classify phase angles"
   ]
  },
  {
   "cell_type": "code",
   "execution_count": null,
   "id": "66caea79-0015-413d-8cdd-7353f914a697",
   "metadata": {},
   "outputs": [],
   "source": [
    "# original phases, no noise, seed=42\n",
    "phases_matrix_inversion = [\n",
    "  4.71679593, 3.12191232, 3.16780616, 3.09201291, 3.20354184,\n",
    "  3.05264564, 3.2365866,  3.02924991, 3.23774518, 3.05327726,\n",
    "  3.1795039,  3.14401516, 3.05475099, 3.29473679, 2.88702665,\n",
    "  2.88702665, 3.29473679, 3.05475099, 3.14401516, 3.1795039,\n",
    "  3.05327726, 3.23774518, 3.02924991, 3.2365866,  3.05264564,\n",
    "  3.20354184, 3.09201291, 3.16780616, 3.12191232, -89.53098368\n",
    "]\n",
    "phases_x_cubed = [\n",
    "  4.33972479, 1.95346106, 1.95346106, -8.22664582\n",
    "]\n",
    "phases_grovers_search = [ \n",
    "  3.1515932,  3.14159265, 3.14159265, -9.41477742\n",
    "]"
   ]
  },
  {
   "cell_type": "code",
   "execution_count": null,
   "id": "8570ba8c-ca9b-4082-9015-8da3ed3dc8f9",
   "metadata": {},
   "outputs": [],
   "source": [
    "# keep only first 4 elements to make each list equal\n",
    "phases_matrix_inversion = phases_matrix_inversion[0:4]\n",
    "phases_x_cubed = phases_x_cubed[0:4]\n",
    "phases_grovers_search = phases_grovers_search[0:4]"
   ]
  },
  {
   "cell_type": "code",
   "execution_count": null,
   "id": "a46a1fcc-e619-40cc-8550-ba4ef21a37b7",
   "metadata": {},
   "outputs": [],
   "source": [
    "# simpler classifier\n",
    "import numpy as np\n",
    "from numpy.linalg import norm\n",
    "\n",
    "# combine lists into candidates\n",
    "candidates = {\n",
    "    \"matrix inversion\": phases_matrix_inversion,\n",
    "    \"x cubed\": phases_x_cubed,\n",
    "    \"grovers search\": phases_grovers_search\n",
    "}\n",
    "\n",
    "# function to classify a new sample\n",
    "def classify(sample, candidates):\n",
    "    distances = {name: norm(np.array(sample) - np.array(values))\n",
    "                 for name, values in candidates.items()}\n",
    "    # return the name of the closest candidate\n",
    "    return min(distances, key=distances.get)\n",
    "\n",
    "# test cases\n",
    "noisy_x_cubed = [ 4.37407968,  2.030852,    2.030852,   -8.19229093]\n",
    "noisy_matrix_inversion = [4.92939735,  3.10105336,  3.17543652 , 3.09509355 ]\n",
    "noisy_grovers = [ 3.1590969 , 3.13980635, 3.13980635 ,-9.40727371]\n",
    "\n",
    "test = noisy_x_cubed\n",
    "\n",
    "# results\n",
    "predicted_name = classify(test, candidates)\n",
    "print(f\"Predicted class: {predicted_name}\")"
   ]
  }
 ],
 "metadata": {
  "kernelspec": {
   "display_name": "Python 3 [Default]",
   "language": "python",
   "name": "python3"
  },
  "language_info": {
   "codemirror_mode": {
    "name": "ipython",
    "version": 3
   },
   "file_extension": ".py",
   "mimetype": "text/x-python",
   "name": "python",
   "nbconvert_exporter": "python",
   "pygments_lexer": "ipython3",
   "version": "3.11.9"
  }
 },
 "nbformat": 4,
 "nbformat_minor": 5
}
