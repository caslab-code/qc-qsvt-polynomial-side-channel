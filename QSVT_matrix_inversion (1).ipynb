{
  "nbformat": 4,
  "nbformat_minor": 0,
  "metadata": {
    "colab": {
      "provenance": [],
      "toc_visible": true
    },
    "kernelspec": {
      "name": "python3",
      "display_name": "Python 3"
    },
    "language_info": {
      "name": "python"
    }
  },
  "cells": [
    {
      "cell_type": "code",
      "execution_count": null,
      "metadata": {
        "colab": {
          "base_uri": "https://localhost:8080/"
        },
        "id": "oqf-3RF2pTNF",
        "outputId": "3104c591-11ec-4ec1-c761-accbe652b3b4"
      },
      "outputs": [
        {
          "output_type": "stream",
          "name": "stdout",
          "text": [
            "Requirement already satisfied: pyqsp in /usr/local/lib/python3.11/dist-packages (0.2.0)\n",
            "Requirement already satisfied: pennylane==0.41.1 in /usr/local/lib/python3.11/dist-packages (0.41.1)\n",
            "Requirement already satisfied: numpy in /usr/local/lib/python3.11/dist-packages (from pennylane==0.41.1) (2.0.2)\n",
            "Requirement already satisfied: scipy in /usr/local/lib/python3.11/dist-packages (from pennylane==0.41.1) (1.15.3)\n",
            "Requirement already satisfied: networkx in /usr/local/lib/python3.11/dist-packages (from pennylane==0.41.1) (3.4.2)\n",
            "Requirement already satisfied: rustworkx>=0.14.0 in /usr/local/lib/python3.11/dist-packages (from pennylane==0.41.1) (0.16.0)\n",
            "Requirement already satisfied: autograd in /usr/local/lib/python3.11/dist-packages (from pennylane==0.41.1) (1.8.0)\n",
            "Requirement already satisfied: tomlkit in /usr/local/lib/python3.11/dist-packages (from pennylane==0.41.1) (0.13.2)\n",
            "Requirement already satisfied: appdirs in /usr/local/lib/python3.11/dist-packages (from pennylane==0.41.1) (1.4.4)\n",
            "Requirement already satisfied: autoray>=0.6.11 in /usr/local/lib/python3.11/dist-packages (from pennylane==0.41.1) (0.7.1)\n",
            "Requirement already satisfied: cachetools in /usr/local/lib/python3.11/dist-packages (from pennylane==0.41.1) (5.5.2)\n",
            "Requirement already satisfied: pennylane-lightning>=0.41 in /usr/local/lib/python3.11/dist-packages (from pennylane==0.41.1) (0.41.1)\n",
            "Requirement already satisfied: requests in /usr/local/lib/python3.11/dist-packages (from pennylane==0.41.1) (2.32.3)\n",
            "Requirement already satisfied: typing-extensions in /usr/local/lib/python3.11/dist-packages (from pennylane==0.41.1) (4.13.2)\n",
            "Requirement already satisfied: packaging in /usr/local/lib/python3.11/dist-packages (from pennylane==0.41.1) (24.2)\n",
            "Requirement already satisfied: diastatic-malt in /usr/local/lib/python3.11/dist-packages (from pennylane==0.41.1) (2.15.2)\n",
            "Requirement already satisfied: matplotlib in /usr/local/lib/python3.11/dist-packages (from pyqsp) (3.10.0)\n",
            "Requirement already satisfied: scipy-openblas32>=0.3.26 in /usr/local/lib/python3.11/dist-packages (from pennylane-lightning>=0.41->pennylane==0.41.1) (0.3.29.265.0)\n",
            "Requirement already satisfied: astunparse in /usr/local/lib/python3.11/dist-packages (from diastatic-malt->pennylane==0.41.1) (1.6.3)\n",
            "Requirement already satisfied: gast in /usr/local/lib/python3.11/dist-packages (from diastatic-malt->pennylane==0.41.1) (0.6.0)\n",
            "Requirement already satisfied: termcolor in /usr/local/lib/python3.11/dist-packages (from diastatic-malt->pennylane==0.41.1) (3.1.0)\n",
            "Requirement already satisfied: contourpy>=1.0.1 in /usr/local/lib/python3.11/dist-packages (from matplotlib->pyqsp) (1.3.2)\n",
            "Requirement already satisfied: cycler>=0.10 in /usr/local/lib/python3.11/dist-packages (from matplotlib->pyqsp) (0.12.1)\n",
            "Requirement already satisfied: fonttools>=4.22.0 in /usr/local/lib/python3.11/dist-packages (from matplotlib->pyqsp) (4.58.0)\n",
            "Requirement already satisfied: kiwisolver>=1.3.1 in /usr/local/lib/python3.11/dist-packages (from matplotlib->pyqsp) (1.4.8)\n",
            "Requirement already satisfied: pillow>=8 in /usr/local/lib/python3.11/dist-packages (from matplotlib->pyqsp) (11.2.1)\n",
            "Requirement already satisfied: pyparsing>=2.3.1 in /usr/local/lib/python3.11/dist-packages (from matplotlib->pyqsp) (3.2.3)\n",
            "Requirement already satisfied: python-dateutil>=2.7 in /usr/local/lib/python3.11/dist-packages (from matplotlib->pyqsp) (2.9.0.post0)\n",
            "Requirement already satisfied: charset-normalizer<4,>=2 in /usr/local/lib/python3.11/dist-packages (from requests->pennylane==0.41.1) (3.4.2)\n",
            "Requirement already satisfied: idna<4,>=2.5 in /usr/local/lib/python3.11/dist-packages (from requests->pennylane==0.41.1) (3.10)\n",
            "Requirement already satisfied: urllib3<3,>=1.21.1 in /usr/local/lib/python3.11/dist-packages (from requests->pennylane==0.41.1) (2.4.0)\n",
            "Requirement already satisfied: certifi>=2017.4.17 in /usr/local/lib/python3.11/dist-packages (from requests->pennylane==0.41.1) (2025.4.26)\n",
            "Requirement already satisfied: six>=1.5 in /usr/local/lib/python3.11/dist-packages (from python-dateutil>=2.7->matplotlib->pyqsp) (1.17.0)\n",
            "Requirement already satisfied: wheel<1.0,>=0.23.0 in /usr/local/lib/python3.11/dist-packages (from astunparse->diastatic-malt->pennylane==0.41.1) (0.45.1)\n"
          ]
        }
      ],
      "source": [
        "pip install pyqsp pennylane==0.41.1"
      ]
    },
    {
      "cell_type": "code",
      "source": [
        "import numpy as np\n",
        "from pyqsp.poly import PolyOneOverX\n",
        "\n",
        "# Instantiate the PolyOneOverX class\n",
        "poly_generator = PolyOneOverX()\n",
        "\n",
        "# Define parameters\n",
        "kappa = 3\n",
        "epsilon = 0.001\n",
        "\n",
        "# Generate Chebyshev coefficients for 1/x approximation\n",
        "cheb_coeffs = poly_generator.generate(\n",
        "    kappa=kappa,\n",
        "    epsilon=epsilon,\n",
        "    return_coef=True,\n",
        "    ensure_bounded=True\n",
        ")\n",
        "\n",
        "from pyqsp.sym_qsp_opt import newton_solver\n",
        "phases, err, total_iter, qsp_seq_opt = newton_solver(cheb_coeffs, parity=1, crit=1e-12)\n",
        "print('phases', phases, ' with length', len(phases))\n"
      ],
      "metadata": {
        "colab": {
          "base_uri": "https://localhost:8080/",
          "height": 512
        },
        "id": "HshcSwaHMhrs",
        "outputId": "e8199159-4553-4473-da18-d7fa479ead5f"
      },
      "execution_count": null,
      "outputs": [
        {
          "output_type": "stream",
          "name": "stdout",
          "text": [
            "b=72, j0=30\n",
            "[PolyOneOverX] minimum [-5.43885318] is at [-0.13228476]: normalizing\n",
            "[PolyOneOverX] bounding to 0.9\n",
            "[sym_qsp] Iterative optimization to err 1.000e-12 or max_iter 100.\n",
            "iter: 001 --- err: 5.817e-01\n",
            "iter: 002 --- err: 2.524e+00\n"
          ]
        },
        {
          "output_type": "error",
          "ename": "KeyboardInterrupt",
          "evalue": "",
          "traceback": [
            "\u001b[0;31m---------------------------------------------------------------------------\u001b[0m",
            "\u001b[0;31mKeyboardInterrupt\u001b[0m                         Traceback (most recent call last)",
            "\u001b[0;32m<ipython-input-81-12c3ca609224>\u001b[0m in \u001b[0;36m<cell line: 0>\u001b[0;34m()\u001b[0m\n\u001b[1;32m     18\u001b[0m \u001b[0;34m\u001b[0m\u001b[0m\n\u001b[1;32m     19\u001b[0m \u001b[0;32mfrom\u001b[0m \u001b[0mpyqsp\u001b[0m\u001b[0;34m.\u001b[0m\u001b[0msym_qsp_opt\u001b[0m \u001b[0;32mimport\u001b[0m \u001b[0mnewton_solver\u001b[0m\u001b[0;34m\u001b[0m\u001b[0;34m\u001b[0m\u001b[0m\n\u001b[0;32m---> 20\u001b[0;31m \u001b[0mphases\u001b[0m\u001b[0;34m,\u001b[0m \u001b[0merr\u001b[0m\u001b[0;34m,\u001b[0m \u001b[0mtotal_iter\u001b[0m\u001b[0;34m,\u001b[0m \u001b[0mqsp_seq_opt\u001b[0m \u001b[0;34m=\u001b[0m \u001b[0mnewton_solver\u001b[0m\u001b[0;34m(\u001b[0m\u001b[0mcheb_coeffs\u001b[0m\u001b[0;34m,\u001b[0m \u001b[0mparity\u001b[0m\u001b[0;34m=\u001b[0m\u001b[0;36m1\u001b[0m\u001b[0;34m,\u001b[0m \u001b[0mcrit\u001b[0m\u001b[0;34m=\u001b[0m\u001b[0;36m1e-12\u001b[0m\u001b[0;34m)\u001b[0m\u001b[0;34m\u001b[0m\u001b[0;34m\u001b[0m\u001b[0m\n\u001b[0m\u001b[1;32m     21\u001b[0m \u001b[0mprint\u001b[0m\u001b[0;34m(\u001b[0m\u001b[0;34m'phases'\u001b[0m\u001b[0;34m,\u001b[0m \u001b[0mphases\u001b[0m\u001b[0;34m,\u001b[0m \u001b[0;34m' with length'\u001b[0m\u001b[0;34m,\u001b[0m \u001b[0mlen\u001b[0m\u001b[0;34m(\u001b[0m\u001b[0mphases\u001b[0m\u001b[0;34m)\u001b[0m\u001b[0;34m)\u001b[0m\u001b[0;34m\u001b[0m\u001b[0;34m\u001b[0m\u001b[0m\n",
            "\u001b[0;32m/usr/local/lib/python3.11/dist-packages/pyqsp/sym_qsp_opt.py\u001b[0m in \u001b[0;36mnewton_solver\u001b[0;34m(coef, parity, **kwargs)\u001b[0m\n\u001b[1;32m    266\u001b[0m     \u001b[0;32mwhile\u001b[0m \u001b[0;32mTrue\u001b[0m\u001b[0;34m:\u001b[0m\u001b[0;34m\u001b[0m\u001b[0;34m\u001b[0m\u001b[0m\n\u001b[1;32m    267\u001b[0m         \u001b[0;31m# Recover evaluated differences and Jacobian.\u001b[0m\u001b[0;34m\u001b[0m\u001b[0;34m\u001b[0m\u001b[0m\n\u001b[0;32m--> 268\u001b[0;31m         \u001b[0;34m(\u001b[0m\u001b[0mFval\u001b[0m\u001b[0;34m,\u001b[0m\u001b[0mDFval\u001b[0m\u001b[0;34m)\u001b[0m \u001b[0;34m=\u001b[0m \u001b[0mqsp_seq_opt\u001b[0m\u001b[0;34m.\u001b[0m\u001b[0mgen_jacobian\u001b[0m\u001b[0;34m(\u001b[0m\u001b[0;34m)\u001b[0m\u001b[0;34m\u001b[0m\u001b[0;34m\u001b[0m\u001b[0m\n\u001b[0m\u001b[1;32m    269\u001b[0m         \u001b[0mres\u001b[0m \u001b[0;34m=\u001b[0m \u001b[0mFval\u001b[0m \u001b[0;34m-\u001b[0m \u001b[0mcoef\u001b[0m\u001b[0;34m\u001b[0m\u001b[0;34m\u001b[0m\u001b[0m\n\u001b[1;32m    270\u001b[0m         \u001b[0merr\u001b[0m \u001b[0;34m=\u001b[0m \u001b[0mnp\u001b[0m\u001b[0;34m.\u001b[0m\u001b[0mlinalg\u001b[0m\u001b[0;34m.\u001b[0m\u001b[0mnorm\u001b[0m\u001b[0;34m(\u001b[0m\u001b[0mres\u001b[0m\u001b[0;34m,\u001b[0m \u001b[0mord\u001b[0m\u001b[0;34m=\u001b[0m\u001b[0;36m1\u001b[0m\u001b[0;34m)\u001b[0m \u001b[0;31m# Take the one norm error.\u001b[0m\u001b[0;34m\u001b[0m\u001b[0;34m\u001b[0m\u001b[0m\n",
            "\u001b[0;32m/usr/local/lib/python3.11/dist-packages/pyqsp/sym_qsp_opt.py\u001b[0m in \u001b[0;36mgen_jacobian\u001b[0;34m(self)\u001b[0m\n\u001b[1;32m    147\u001b[0m         \u001b[0;31m# Evaluate columns over each angle.\u001b[0m\u001b[0;34m\u001b[0m\u001b[0;34m\u001b[0m\u001b[0m\n\u001b[1;32m    148\u001b[0m         \u001b[0;32mfor\u001b[0m \u001b[0mn\u001b[0m \u001b[0;32min\u001b[0m \u001b[0mrange\u001b[0m\u001b[0;34m(\u001b[0m\u001b[0;36m0\u001b[0m\u001b[0;34m,\u001b[0m\u001b[0md\u001b[0m\u001b[0;34m+\u001b[0m\u001b[0;36m1\u001b[0m\u001b[0;34m)\u001b[0m\u001b[0;34m:\u001b[0m\u001b[0;34m\u001b[0m\u001b[0;34m\u001b[0m\u001b[0m\n\u001b[0;32m--> 149\u001b[0;31m             \u001b[0mM\u001b[0m\u001b[0;34m[\u001b[0m\u001b[0mn\u001b[0m\u001b[0;34m,\u001b[0m\u001b[0;34m:\u001b[0m\u001b[0;34m]\u001b[0m \u001b[0;34m=\u001b[0m \u001b[0mf\u001b[0m\u001b[0;34m(\u001b[0m\u001b[0mnp\u001b[0m\u001b[0;34m.\u001b[0m\u001b[0mcos\u001b[0m\u001b[0;34m(\u001b[0m\u001b[0mtheta\u001b[0m\u001b[0;34m[\u001b[0m\u001b[0mn\u001b[0m\u001b[0;34m]\u001b[0m\u001b[0;34m)\u001b[0m\u001b[0;34m)\u001b[0m\u001b[0;34m\u001b[0m\u001b[0;34m\u001b[0m\u001b[0m\n\u001b[0m\u001b[1;32m    150\u001b[0m \u001b[0;34m\u001b[0m\u001b[0m\n\u001b[1;32m    151\u001b[0m         \u001b[0;31m# Flip sign of second half of rows, and flip order of remaining elements.\u001b[0m\u001b[0;34m\u001b[0m\u001b[0;34m\u001b[0m\u001b[0m\n",
            "\u001b[0;32m/usr/local/lib/python3.11/dist-packages/pyqsp/sym_qsp_opt.py\u001b[0m in \u001b[0;36m<lambda>\u001b[0;34m(x)\u001b[0m\n\u001b[1;32m    139\u001b[0m \u001b[0;34m\u001b[0m\u001b[0m\n\u001b[1;32m    140\u001b[0m         \u001b[0;31m# Anonymous function to generate columns.\u001b[0m\u001b[0;34m\u001b[0m\u001b[0;34m\u001b[0m\u001b[0m\n\u001b[0;32m--> 141\u001b[0;31m         \u001b[0mf\u001b[0m \u001b[0;34m=\u001b[0m \u001b[0;32mlambda\u001b[0m \u001b[0mx\u001b[0m\u001b[0;34m:\u001b[0m \u001b[0mself\u001b[0m\u001b[0;34m.\u001b[0m\u001b[0mgen_poly_jacobian_components\u001b[0m\u001b[0;34m(\u001b[0m\u001b[0mx\u001b[0m\u001b[0;34m)\u001b[0m\u001b[0;34m\u001b[0m\u001b[0;34m\u001b[0m\u001b[0m\n\u001b[0m\u001b[1;32m    142\u001b[0m \u001b[0;34m\u001b[0m\u001b[0m\n\u001b[1;32m    143\u001b[0m         \u001b[0;31m# Generate equispaced sample angles.\u001b[0m\u001b[0;34m\u001b[0m\u001b[0;34m\u001b[0m\u001b[0m\n",
            "\u001b[0;32m/usr/local/lib/python3.11/dist-packages/pyqsp/sym_qsp_opt.py\u001b[0m in \u001b[0;36mgen_poly_jacobian_components\u001b[0;34m(self, a)\u001b[0m\n\u001b[1;32m    206\u001b[0m         \u001b[0;31m# Updating R with a second pass ranging from 1 to n-1.\u001b[0m\u001b[0;34m\u001b[0m\u001b[0;34m\u001b[0m\u001b[0m\n\u001b[1;32m    207\u001b[0m         \u001b[0;32mfor\u001b[0m \u001b[0mk\u001b[0m \u001b[0;32min\u001b[0m \u001b[0mrange\u001b[0m\u001b[0;34m(\u001b[0m\u001b[0;36m1\u001b[0m\u001b[0;34m,\u001b[0m\u001b[0mn\u001b[0m\u001b[0;34m)\u001b[0m\u001b[0;34m:\u001b[0m\u001b[0;34m\u001b[0m\u001b[0;34m\u001b[0m\u001b[0m\n\u001b[0;32m--> 208\u001b[0;31m             R[:,k] = B @ (np.array([\n\u001b[0m\u001b[1;32m    209\u001b[0m                 \u001b[0;34m[\u001b[0m\u001b[0mnp\u001b[0m\u001b[0;34m.\u001b[0m\u001b[0mcos\u001b[0m\u001b[0;34m(\u001b[0m\u001b[0;36m2\u001b[0m\u001b[0;34m*\u001b[0m\u001b[0mself\u001b[0m\u001b[0;34m.\u001b[0m\u001b[0mreduced_phases\u001b[0m\u001b[0;34m[\u001b[0m\u001b[0mk\u001b[0m\u001b[0;34m-\u001b[0m\u001b[0;36m1\u001b[0m\u001b[0;34m]\u001b[0m\u001b[0;34m)\u001b[0m\u001b[0;34m,\u001b[0m \u001b[0;34m-\u001b[0m\u001b[0;36m1\u001b[0m\u001b[0;34m*\u001b[0m\u001b[0mnp\u001b[0m\u001b[0;34m.\u001b[0m\u001b[0msin\u001b[0m\u001b[0;34m(\u001b[0m\u001b[0;36m2\u001b[0m\u001b[0;34m*\u001b[0m\u001b[0mself\u001b[0m\u001b[0;34m.\u001b[0m\u001b[0mreduced_phases\u001b[0m\u001b[0;34m[\u001b[0m\u001b[0mk\u001b[0m\u001b[0;34m-\u001b[0m\u001b[0;36m1\u001b[0m\u001b[0;34m]\u001b[0m\u001b[0;34m)\u001b[0m\u001b[0;34m,\u001b[0m \u001b[0;36m0\u001b[0m\u001b[0;34m]\u001b[0m\u001b[0;34m,\u001b[0m\u001b[0;34m\u001b[0m\u001b[0;34m\u001b[0m\u001b[0m\n\u001b[1;32m    210\u001b[0m                 \u001b[0;34m[\u001b[0m\u001b[0mnp\u001b[0m\u001b[0;34m.\u001b[0m\u001b[0msin\u001b[0m\u001b[0;34m(\u001b[0m\u001b[0;36m2\u001b[0m\u001b[0;34m*\u001b[0m\u001b[0mself\u001b[0m\u001b[0;34m.\u001b[0m\u001b[0mreduced_phases\u001b[0m\u001b[0;34m[\u001b[0m\u001b[0mk\u001b[0m\u001b[0;34m-\u001b[0m\u001b[0;36m1\u001b[0m\u001b[0;34m]\u001b[0m\u001b[0;34m)\u001b[0m\u001b[0;34m,\u001b[0m \u001b[0mnp\u001b[0m\u001b[0;34m.\u001b[0m\u001b[0mcos\u001b[0m\u001b[0;34m(\u001b[0m\u001b[0;36m2\u001b[0m\u001b[0;34m*\u001b[0m\u001b[0mself\u001b[0m\u001b[0;34m.\u001b[0m\u001b[0mreduced_phases\u001b[0m\u001b[0;34m[\u001b[0m\u001b[0mk\u001b[0m\u001b[0;34m-\u001b[0m\u001b[0;36m1\u001b[0m\u001b[0;34m]\u001b[0m\u001b[0;34m)\u001b[0m\u001b[0;34m,\u001b[0m \u001b[0;36m0\u001b[0m\u001b[0;34m]\u001b[0m\u001b[0;34m,\u001b[0m\u001b[0;34m\u001b[0m\u001b[0;34m\u001b[0m\u001b[0m\n",
            "\u001b[0;31mKeyboardInterrupt\u001b[0m: "
          ]
        }
      ]
    },
    {
      "cell_type": "code",
      "source": [],
      "metadata": {
        "id": "9RnEQ8iJS55I"
      },
      "execution_count": null,
      "outputs": []
    },
    {
      "cell_type": "code",
      "source": [
        "## Here adding more information.For testing if it is correct\n",
        "\n",
        "import pennylane as qml\n",
        "from pennylane import numpy as np\n",
        "\n",
        "dev = qml.device(\"default.qubit\", wires=1)\n",
        "\n",
        "def unitary_oracle(x):\n",
        "    return np.array([[x, np.sqrt(1 - x**2)], [np.sqrt(1 - x**2), -x]])\n",
        "\n",
        "@qml.qnode(dev)\n",
        "def qsp_circuit(x):\n",
        "    qml.StatePrep([1,0], wires=0)  # |0> state\n",
        "\n",
        "    # Apply QSP sequence\n",
        "    for phase in phases:\n",
        "        qml.RZ(phase, wires=0)\n",
        "        qml.QubitUnitary(unitary_oracle(x), wires=0)\n",
        "\n",
        "    return qml.expval(qml.PauliZ(0))\n"
      ],
      "metadata": {
        "id": "7ayZVBHYOHLE"
      },
      "execution_count": null,
      "outputs": []
    },
    {
      "cell_type": "code",
      "source": [
        "# Testing\n",
        "\n",
        "x_vals = np.linspace(0.3, 1.0, 10)  # Example values for κ=3\n",
        "for x in x_vals:\n",
        "    qsp_result = qsp_circuit(x)\n",
        "    classical_result = 1/x\n",
        "    print(f\"x={x:.2f}, QSP={qsp_result:.4f}, 1/x={classical_result:.4f}\")\n"
      ],
      "metadata": {
        "colab": {
          "base_uri": "https://localhost:8080/"
        },
        "id": "7EjL4XmLP1ur",
        "outputId": "c2df0d1d-7f12-422c-b1d8-9e6c8dcfec4c"
      },
      "execution_count": null,
      "outputs": [
        {
          "output_type": "stream",
          "name": "stdout",
          "text": [
            "x=0.30, QSP=0.2073, 1/x=3.3333\n",
            "x=0.38, QSP=-0.7270, 1/x=2.6471\n",
            "x=0.46, QSP=-0.3706, 1/x=2.1951\n",
            "x=0.53, QSP=0.1054, 1/x=1.8750\n",
            "x=0.61, QSP=-0.4440, 1/x=1.6364\n",
            "x=0.69, QSP=0.0952, 1/x=1.4516\n",
            "x=0.77, QSP=-0.9489, 1/x=1.3043\n",
            "x=0.84, QSP=0.0451, 1/x=1.1842\n",
            "x=0.92, QSP=-0.4982, 1/x=1.0843\n",
            "x=1.00, QSP=1.0000, 1/x=1.0000\n"
          ]
        }
      ]
    },
    {
      "cell_type": "markdown",
      "source": [
        "\n",
        "\n",
        "```\n",
        "# This is formatted as code\n",
        "```\n",
        "\n",
        "# Classiq Optimized their function"
      ],
      "metadata": {
        "id": "458cO1liTLzJ"
      }
    },
    {
      "cell_type": "code",
      "source": [],
      "metadata": {
        "id": "b1tquNv4XSgF"
      },
      "execution_count": null,
      "outputs": []
    },
    {
      "cell_type": "code",
      "source": [
        "pip install cvxpy matplotlib"
      ],
      "metadata": {
        "colab": {
          "base_uri": "https://localhost:8080/"
        },
        "id": "kQjyaQyfTm2a",
        "outputId": "15d5a6f5-5811-472c-8863-d7b213c84121"
      },
      "execution_count": null,
      "outputs": [
        {
          "output_type": "stream",
          "name": "stdout",
          "text": [
            "Requirement already satisfied: cvxpy in /usr/local/lib/python3.11/dist-packages (1.6.5)\n",
            "Requirement already satisfied: matplotlib in /usr/local/lib/python3.11/dist-packages (3.10.0)\n",
            "Requirement already satisfied: osqp>=0.6.2 in /usr/local/lib/python3.11/dist-packages (from cvxpy) (1.0.4)\n",
            "Requirement already satisfied: clarabel>=0.5.0 in /usr/local/lib/python3.11/dist-packages (from cvxpy) (0.10.0)\n",
            "Requirement already satisfied: scs>=3.2.4.post1 in /usr/local/lib/python3.11/dist-packages (from cvxpy) (3.2.7.post2)\n",
            "Requirement already satisfied: numpy>=1.21.6 in /usr/local/lib/python3.11/dist-packages (from cvxpy) (2.0.2)\n",
            "Requirement already satisfied: scipy>=1.11.0 in /usr/local/lib/python3.11/dist-packages (from cvxpy) (1.15.3)\n",
            "Requirement already satisfied: contourpy>=1.0.1 in /usr/local/lib/python3.11/dist-packages (from matplotlib) (1.3.2)\n",
            "Requirement already satisfied: cycler>=0.10 in /usr/local/lib/python3.11/dist-packages (from matplotlib) (0.12.1)\n",
            "Requirement already satisfied: fonttools>=4.22.0 in /usr/local/lib/python3.11/dist-packages (from matplotlib) (4.58.0)\n",
            "Requirement already satisfied: kiwisolver>=1.3.1 in /usr/local/lib/python3.11/dist-packages (from matplotlib) (1.4.8)\n",
            "Requirement already satisfied: packaging>=20.0 in /usr/local/lib/python3.11/dist-packages (from matplotlib) (24.2)\n",
            "Requirement already satisfied: pillow>=8 in /usr/local/lib/python3.11/dist-packages (from matplotlib) (11.2.1)\n",
            "Requirement already satisfied: pyparsing>=2.3.1 in /usr/local/lib/python3.11/dist-packages (from matplotlib) (3.2.3)\n",
            "Requirement already satisfied: python-dateutil>=2.7 in /usr/local/lib/python3.11/dist-packages (from matplotlib) (2.9.0.post0)\n",
            "Requirement already satisfied: jinja2 in /usr/local/lib/python3.11/dist-packages (from osqp>=0.6.2->cvxpy) (3.1.6)\n",
            "Requirement already satisfied: setuptools in /usr/local/lib/python3.11/dist-packages (from osqp>=0.6.2->cvxpy) (75.2.0)\n",
            "Requirement already satisfied: joblib in /usr/local/lib/python3.11/dist-packages (from osqp>=0.6.2->cvxpy) (1.5.0)\n",
            "Requirement already satisfied: six>=1.5 in /usr/local/lib/python3.11/dist-packages (from python-dateutil>=2.7->matplotlib) (1.17.0)\n",
            "Requirement already satisfied: MarkupSafe>=2.0 in /usr/local/lib/python3.11/dist-packages (from jinja2->osqp>=0.6.2->cvxpy) (3.0.2)\n"
          ]
        }
      ]
    },
    {
      "cell_type": "code",
      "source": [
        "from pyqsp.angle_sequence import Polynomial, QuantumSignalProcessingPhases"
      ],
      "metadata": {
        "id": "EFAxDhRvSsnj"
      },
      "execution_count": null,
      "outputs": []
    },
    {
      "cell_type": "markdown",
      "source": [
        "Optimizing function for the f(x) = 1/x"
      ],
      "metadata": {
        "id": "fVqrEs-aT2Qy"
      }
    },
    {
      "cell_type": "code",
      "source": [
        "import numpy as np\n",
        "import scipy\n",
        "\n",
        "# the size of the unitary which block encodes A\n",
        "REG_SIZE = 3\n",
        "\n",
        "\n",
        "def get_random_unitary(num_qubits, seed=4):\n",
        "    np.random.seed(seed)\n",
        "    X = np.random.rand(2**num_qubits, 2**num_qubits)\n",
        "    U, s, V = np.linalg.svd(X)\n",
        "    return U @ V.T\n",
        "\n",
        "\n",
        "U_a = get_random_unitary(REG_SIZE)\n",
        "\n",
        "A_dim = int(U_a.shape[0] / 2)\n",
        "A = U_a[:A_dim, :A_dim]\n",
        "print(A)"
      ],
      "metadata": {
        "colab": {
          "base_uri": "https://localhost:8080/"
        },
        "id": "uf7Os386UNov",
        "outputId": "6e87236f-406c-492e-b511-107d8a822f62"
      },
      "execution_count": null,
      "outputs": [
        {
          "output_type": "stream",
          "name": "stdout",
          "text": [
            "[[-0.05338002 -0.36103662 -0.54016489 -0.39026125]\n",
            " [-0.33304121  0.10648228  0.37346704 -0.33977916]\n",
            " [ 0.4167817  -0.75180519  0.17593867  0.20944773]\n",
            " [ 0.26891079 -0.05333795 -0.32668787 -0.33602829]]\n"
          ]
        }
      ]
    },
    {
      "cell_type": "code",
      "source": [
        "import cvxpy as cp\n",
        "import matplotlib.pyplot as plt\n",
        "\n",
        "\n",
        "def optimize_inversion_polynomial(w_min, w_max, degree, M=1000, plot=True):\n",
        "    # Discretize [-1, 1] using M grid points (interpolants)\n",
        "    xj_full = np.cos(np.pi * np.arange(M) / (M - 1))  # Chebyshev nodes on [-1, 1]\n",
        "\n",
        "    # Select grid points for the objective in [w_min, w_max]\n",
        "    xj_obj = xj_full[(xj_full >= w_min) & (xj_full <= w_max)]\n",
        "\n",
        "    # Define the Chebyshev polynomials of odd degrees\n",
        "    k_max = (degree - 1) // 2\n",
        "    T_matrix_full = np.array(\n",
        "        [\n",
        "            [np.cos((2 * k + 1) * np.arccos(x)) for k in range(k_max + 1)]\n",
        "            for x in xj_full\n",
        "        ]\n",
        "    )\n",
        "    T_matrix_obj = np.array(\n",
        "        [[np.cos((2 * k + 1) * np.arccos(x)) for k in range(k_max + 1)] for x in xj_obj]\n",
        "    )\n",
        "\n",
        "    # Define optimization variables\n",
        "    c = cp.Variable(k_max + 1)  # Coefficients for Chebyshev polynomials\n",
        "    F_values_full = T_matrix_full @ c  # Values for constraints\n",
        "    F_values_obj = T_matrix_obj @ c  # Values for the objective function\n",
        "\n",
        "    # Relaxed constraint\n",
        "    scale = 0.5\n",
        "\n",
        "    def target_function(x):\n",
        "        return scale * (w_min) / x\n",
        "\n",
        "    # Define the optimization problem\n",
        "    objective = cp.Minimize(cp.max(cp.abs(F_values_obj - target_function(xj_obj))))\n",
        "    constraints = [cp.abs(F_values_full) <= scale]\n",
        "    prob = cp.Problem(objective, constraints)\n",
        "\n",
        "    # Solve the optimization problem\n",
        "    prob.solve()\n",
        "    print(f\"Max error value: {prob.value}\")\n",
        "\n",
        "    # Return coefficients, optimal value, and grid points\n",
        "    pcoefs = np.zeros(len(c.value) * 2)\n",
        "    pcoefs[1::2] = c.value\n",
        "\n",
        "    if plot:\n",
        "        y_target = target_function(xj_obj)\n",
        "        y_approx = np.polynomial.Chebyshev(pcoefs)(xj_full)\n",
        "\n",
        "        # Plot\n",
        "        plt.figure(figsize=(10, 5))\n",
        "        plt.plot(xj_obj, y_target, label=\"Target function\", linewidth=4)\n",
        "        plt.plot(\n",
        "            xj_full,\n",
        "            y_approx,\n",
        "            \"--\",\n",
        "            label=\"Polynomial approximation\",\n",
        "            linewidth=2,\n",
        "            c=\"r\",\n",
        "        )\n",
        "        plt.title(\"Polynomial Approximation vs Target Function\")\n",
        "        plt.xlabel(\"x\")\n",
        "        plt.ylabel(\"f(x)\")\n",
        "        # Draw vertical lines\n",
        "        plt.axvline(w_min, color=\"gray\", linestyle=\":\", linewidth=3)\n",
        "        plt.axvline(w_max, color=\"gray\", linestyle=\":\", linewidth=3)\n",
        "\n",
        "        plt.legend()\n",
        "        plt.grid(True)\n",
        "        plt.show()\n",
        "\n",
        "    return pcoefs, scale\n",
        "\n",
        "\n",
        "svd = np.linalg.svd(A)[1]\n",
        "# print(svd)\n",
        "pcoefs, scale = optimize_inversion_polynomial(min(svd), max(svd), degree=30)\n",
        "print(pcoefs)"
      ],
      "metadata": {
        "colab": {
          "base_uri": "https://localhost:8080/",
          "height": 591
        },
        "id": "DqEii4zkT8ux",
        "outputId": "2e37fec2-e8f8-487c-ae55-2dd330ab9b10"
      },
      "execution_count": null,
      "outputs": [
        {
          "output_type": "stream",
          "name": "stdout",
          "text": [
            "Max error value: 0.004700998285219249\n"
          ]
        },
        {
          "output_type": "display_data",
          "data": {
            "text/plain": [
              "<Figure size 1000x500 with 1 Axes>"
            ],
            "image/png": "[encoded data removed]"
          },
          "metadata": {}
        },
        {
          "output_type": "stream",
          "name": "stdout",
          "text": [
            "[ 0.          0.25054832  0.         -0.14629239  0.          0.08051086\n",
            "  0.          0.00135102  0.         -0.03904751  0.          0.08628945\n",
            "  0.         -0.09197067  0.          0.10660837  0.         -0.08916949\n",
            "  0.          0.08359965  0.         -0.057867    0.          0.04664974\n",
            "  0.         -0.02450966  0.          0.01879831  0.         -0.00429364]\n"
          ]
        }
      ]
    },
    {
      "cell_type": "code",
      "source": [
        "print(pcoefs)"
      ],
      "metadata": {
        "colab": {
          "base_uri": "https://localhost:8080/"
        },
        "id": "gYxLLdI4T1zE",
        "outputId": "742de3e3-3d00-4dbe-ca48-6abb8f7c447f"
      },
      "execution_count": null,
      "outputs": [
        {
          "output_type": "stream",
          "name": "stdout",
          "text": [
            "[ 0.          0.25054832  0.         -0.14629239  0.          0.08051086\n",
            "  0.          0.00135102  0.         -0.03904751  0.          0.08628945\n",
            "  0.         -0.09197067  0.          0.10660837  0.         -0.08916949\n",
            "  0.          0.08359965  0.         -0.057867    0.          0.04664974\n",
            "  0.         -0.02450966  0.          0.01879831  0.         -0.00429364]\n"
          ]
        }
      ]
    },
    {
      "cell_type": "code",
      "source": [
        "# change the R(x) to W(x), as the phases are in the W(x) conventions\n",
        "phases = np.array(pcoefs)\n",
        "phases[1:-1] = phases[1:-1] - np.pi / 2\n",
        "phases[0] = phases[0] - np.pi / 4\n",
        "phases[-1] = phases[-1] + (2 * (len(phases) - 1) - 1) * np.pi / 4\n",
        "\n",
        "# verify conventions. minus is due to exp(-i*phi*z) in qsvt in comparison to qsp\n",
        "phases = -2 * phases\n",
        "print(phases)"
      ],
      "metadata": {
        "colab": {
          "base_uri": "https://localhost:8080/"
        },
        "id": "g0WEf2JBVlx_",
        "outputId": "42a6ae56-6fac-4d45-bc50-09944c84f298"
      },
      "execution_count": null,
      "outputs": [
        {
          "output_type": "stream",
          "name": "stdout",
          "text": [
            "[  1.57079633   2.64049602   3.14159265   3.43417744   3.14159265\n",
            "   2.98057093   3.14159265   3.13889062   3.14159265   3.21968768\n",
            "   3.14159265   2.96901375   3.14159265   3.32553399   3.14159265\n",
            "   2.92837591   3.14159265   3.31993163   3.14159265   2.97439336\n",
            "   3.14159265   3.25732665   3.14159265   3.04829317   3.14159265\n",
            "   3.19061198   3.14159265   3.10399603   3.14159265 -89.52680334]\n"
          ]
        }
      ]
    },
    {
      "cell_type": "code",
      "source": [],
      "metadata": {
        "id": "UKdtHL20V4Q8"
      },
      "execution_count": null,
      "outputs": []
    }
  ]
}